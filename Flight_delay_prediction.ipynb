{
 "cells": [
  {
   "cell_type": "markdown",
   "metadata": {},
   "source": [
    "# Flight Cancellation Prediction"
   ]
  },
  {
   "cell_type": "markdown",
   "metadata": {},
   "source": [
    "A large travel agency has asked us to predict whether a flight will be canceled based on several factors. The agency can sell tickets for only three airlines (AA, UA, and DL) and would like to be able to advise its customers on which airline has the least risk of cancellation. Using the dataset provided:\n",
    "\n",
    "\n",
    "1. Build a model to predict whether a flight will be canceled.\n",
    "2. Write your own function that uses the model output to predict whether a future flight will be canceled.\n",
    "3. Provide fully commented code and model output for your analysis.\n",
    "4. Provide a recommendationon which airline is most reliable.\n"
   ]
  },
  {
   "cell_type": "markdown",
   "metadata": {},
   "source": [
    "## 1. Feature Generation and Exploratory Data Analysis\n",
    "### 1.1 Read the CSV data file as pandas DataFrame"
   ]
  },
  {
   "cell_type": "code",
   "execution_count": 1,
   "metadata": {
    "collapsed": true
   },
   "outputs": [],
   "source": [
    "import pandas as pd\n",
    "import numpy as np\n",
    "import sklearn\n",
    "\n",
    "from sklearn.pipeline import Pipeline\n",
    "from sklearn import base\n",
    "from sklearn.preprocessing import OneHotEncoder, LabelEncoder\n",
    "from sklearn.model_selection import train_test_split, GridSearchCV \n",
    "from sklearn.neighbors import KNeighborsRegressor\n",
    "from sklearn.ensemble import RandomForestRegressor\n",
    "from sklearn.linear_model import LogisticRegression\n",
    "from sklearn.metrics import accuracy_score, precision_score, recall_score\n",
    "\n",
    "import matplotlib.pyplot as plt\n",
    "%matplotlib inline"
   ]
  },
  {
   "cell_type": "code",
   "execution_count": 2,
   "metadata": {
    "collapsed": true
   },
   "outputs": [],
   "source": [
    "data = pd.read_csv('Data_PredictingFlightDelays.csv', header=None )\n",
    "data.columns = ['Canceled', 'Month', 'DepartureTime', 'UniqueCarrier', 'SchedElapsedTime', 'ArrDelay', 'DepDelay', 'Distance']\n",
    "\n",
    "# create a function to shuffle row index of data, so there won't be bia caused by order in later model fitting using cross validation\n",
    "def shuffle(df, n=1, axis=0):     \n",
    "    df = df.copy()\n",
    "    df = df.reset_index().drop('index', axis= 1)\n",
    "    for _ in range(n):\n",
    "        df.apply(np.random.shuffle, axis=axis)\n",
    "    return df\n",
    "\n",
    "data = shuffle(data)\n",
    "\n",
    "# create a new variable Hour for hour of the day:\n",
    "\n",
    "def get_hour(x):\n",
    "    try: # If departure time has >2 digits \n",
    "        return int(str(x)[:-2])\n",
    "    except: # if departure time has only <=2 digits: the hour is 0, time is 0:xx\n",
    "        return 0\n",
    "    \n",
    "data['Hour']= data['DepartureTime'].apply(get_hour)"
   ]
  },
  {
   "cell_type": "markdown",
   "metadata": {},
   "source": [
    "### Target label: Canceled \n",
    "\n",
    "### Features: \n",
    "* Categorical feature:\n",
    "  * **Month**: Month of the year 1,...,12\n",
    "  * **UniqueCarrier**: AA, DL, UA\n",
    "  * **DepartureTime**: extract a new feature, **Hour**, to determine the hour of flight (0 to 24)\n",
    "* Numeric features: \n",
    "  * **SchedElapsedTime** \n",
    "  * **Distance** \n",
    "\n",
    "#### Excluded from features:  Arrival and departture delay in minutes (**ArrDelay and DepDelay**) \n",
    "* ArrDelay and DepDelay equal to zero for all cancelled flights (except for 5 cases of DepDelay), and >0 for flights not canceled. So they include outcome information in another sense and should not be used as features.\n",
    "* These information will not be avaialbe for future prediction. "
   ]
  },
  {
   "cell_type": "markdown",
   "metadata": {},
   "source": [
    "### 1.2 Exploratory Data Analysis \n",
    "### 1.2.1 Histogram of continuous variables\n",
    "First, plot the histogram of each continous variable (SchedElapsedTime, Distance, ArrDelay and DepDelay) by 'Canceled'. "
   ]
  },
  {
   "cell_type": "code",
   "execution_count": 3,
   "metadata": {},
   "outputs": [
    {
     "data": {
      "text/plain": [
       "<matplotlib.axes._subplots.AxesSubplot at 0x113d2d470>"
      ]
     },
     "execution_count": 3,
     "metadata": {},
     "output_type": "execute_result"
    },
    {
     "data": {
      "image/png": "[encoded data removed]",
      "text/plain": [
       "<matplotlib.figure.Figure at 0x113cce908>"
      ]
     },
     "metadata": {},
     "output_type": "display_data"
    }
   ],
   "source": [
    "fig, axes = plt.subplots(nrows=2, ncols=2, figsize=(12, 8))\n",
    "\n",
    "data.loc[data['Canceled']==1 ,'SchedElapsedTime'].plot.hist(bins= 30, ax=axes[0,0], alpha=.3, title= 'Scheduled Flight time in minutes')\n",
    "data.loc[data['Canceled']==0 ,'SchedElapsedTime'].plot.hist( bins= 30, ax=axes[0,0], alpha=.3)\n",
    "\n",
    "data.loc[data['Canceled']==1 ,'Distance'].plot.hist(bins= 30, ax=axes[0,1], alpha=.3, title= 'Distance in miles')\n",
    "data.loc[data['Canceled']==0 ,'Distance'].plot.hist(bins= 30, ax=axes[0,1], alpha=.3 )\n",
    "\n",
    "data.loc[data['Canceled']==1 ,'ArrDelay'].plot.hist(bins= 30, ax=axes[1,1], alpha=.3, title= 'Arrival delay in minutes')\n",
    "data.loc[data['Canceled']==0 ,'ArrDelay'].plot.hist(bins= 30, ax=axes[1,1], alpha=.3 )\n",
    "\n",
    "data.loc[data['Canceled']==1 ,'DepDelay'].plot.hist(bins= 40, ax=axes[1,0], alpha=.3, title= 'Departure delay in minutes' )\n",
    "data.loc[data['Canceled']==0 ,'DepDelay'].plot.hist(bins= 40, ax=axes[1,0], alpha=.3  )"
   ]
  },
  {
   "cell_type": "markdown",
   "metadata": {},
   "source": [
    "Orange histogram shows flights not canceled (Canceled =0) while the grew histogram shows canceled flights(Canceled=1)."
   ]
  },
  {
   "cell_type": "code",
   "execution_count": 4,
   "metadata": {},
   "outputs": [
    {
     "name": "stdout",
     "output_type": "stream",
     "text": [
      "                  SchedElapsedTime  Distance\n",
      "SchedElapsedTime          1.000000  0.982335\n",
      "Distance                  0.982335  1.000000\n"
     ]
    },
    {
     "data": {
      "text/plain": [
       "<matplotlib.collections.PathCollection at 0x1144c5b70>"
      ]
     },
     "execution_count": 4,
     "metadata": {},
     "output_type": "execute_result"
    },
    {
     "data": {
      "image/png": "[encoded data removed]",
      "text/plain": [
       "<matplotlib.figure.Figure at 0x10df5f2b0>"
      ]
     },
     "metadata": {},
     "output_type": "display_data"
    }
   ],
   "source": [
    "print(data[['SchedElapsedTime','Distance']].corr())\n",
    "plt.scatter(data['SchedElapsedTime'], data['Distance'])"
   ]
  },
  {
   "cell_type": "markdown",
   "metadata": {},
   "source": [
    "### Findings:\n",
    "* SchedElapsedTime and Distance both have a distribution skewed to the right. \n",
    "* Arrival and departure delay only have values when flights were not canceled (Cancel=0). So we should not include them as features.\n",
    "* 'SchedElapsedTime'and 'Distance' are highly correlated (correlation = 0.98). I'll choose only Distance as a feature in predition model to avoild multicollinearity in model. \n",
    "\n",
    "### 1.2.2 Frequency table of categorical features by Canceled"
   ]
  },
  {
   "cell_type": "code",
   "execution_count": 5,
   "metadata": {},
   "outputs": [
    {
     "data": {
      "text/html": [
       "<div>\n",
       "<table border=\"1\" class=\"dataframe\">\n",
       "  <thead>\n",
       "    <tr style=\"text-align: right;\">\n",
       "      <th>UniqueCarrier</th>\n",
       "      <th>AA</th>\n",
       "      <th>DL</th>\n",
       "      <th>UA</th>\n",
       "    </tr>\n",
       "    <tr>\n",
       "      <th>Canceled</th>\n",
       "      <th></th>\n",
       "      <th></th>\n",
       "      <th></th>\n",
       "    </tr>\n",
       "  </thead>\n",
       "  <tbody>\n",
       "    <tr>\n",
       "      <th>0</th>\n",
       "      <td>1983</td>\n",
       "      <td>1499</td>\n",
       "      <td>1518</td>\n",
       "    </tr>\n",
       "    <tr>\n",
       "      <th>1</th>\n",
       "      <td>493</td>\n",
       "      <td>189</td>\n",
       "      <td>318</td>\n",
       "    </tr>\n",
       "  </tbody>\n",
       "</table>\n",
       "</div>"
      ],
      "text/plain": [
       "UniqueCarrier    AA    DL    UA\n",
       "Canceled                       \n",
       "0              1983  1499  1518\n",
       "1               493   189   318"
      ]
     },
     "execution_count": 5,
     "metadata": {},
     "output_type": "execute_result"
    }
   ],
   "source": [
    "data.groupby(['Canceled','UniqueCarrier']).size().unstack()"
   ]
  },
  {
   "cell_type": "code",
   "execution_count": 6,
   "metadata": {},
   "outputs": [
    {
     "data": {
      "text/html": [
       "<div>\n",
       "<table border=\"1\" class=\"dataframe\">\n",
       "  <thead>\n",
       "    <tr style=\"text-align: right;\">\n",
       "      <th>Month</th>\n",
       "      <th>1</th>\n",
       "      <th>2</th>\n",
       "      <th>3</th>\n",
       "      <th>4</th>\n",
       "      <th>5</th>\n",
       "      <th>6</th>\n",
       "      <th>7</th>\n",
       "      <th>8</th>\n",
       "      <th>9</th>\n",
       "      <th>10</th>\n",
       "      <th>11</th>\n",
       "      <th>12</th>\n",
       "    </tr>\n",
       "    <tr>\n",
       "      <th>Canceled</th>\n",
       "      <th></th>\n",
       "      <th></th>\n",
       "      <th></th>\n",
       "      <th></th>\n",
       "      <th></th>\n",
       "      <th></th>\n",
       "      <th></th>\n",
       "      <th></th>\n",
       "      <th></th>\n",
       "      <th></th>\n",
       "      <th></th>\n",
       "      <th></th>\n",
       "    </tr>\n",
       "  </thead>\n",
       "  <tbody>\n",
       "    <tr>\n",
       "      <th>0</th>\n",
       "      <td>416</td>\n",
       "      <td>431</td>\n",
       "      <td>388</td>\n",
       "      <td>441</td>\n",
       "      <td>450</td>\n",
       "      <td>429</td>\n",
       "      <td>396</td>\n",
       "      <td>438</td>\n",
       "      <td>413</td>\n",
       "      <td>435</td>\n",
       "      <td>390</td>\n",
       "      <td>373</td>\n",
       "    </tr>\n",
       "    <tr>\n",
       "      <th>1</th>\n",
       "      <td>123</td>\n",
       "      <td>140</td>\n",
       "      <td>129</td>\n",
       "      <td>147</td>\n",
       "      <td>65</td>\n",
       "      <td>65</td>\n",
       "      <td>84</td>\n",
       "      <td>71</td>\n",
       "      <td>38</td>\n",
       "      <td>16</td>\n",
       "      <td>33</td>\n",
       "      <td>89</td>\n",
       "    </tr>\n",
       "  </tbody>\n",
       "</table>\n",
       "</div>"
      ],
      "text/plain": [
       "Month      1    2    3    4    5    6    7    8    9    10   11   12\n",
       "Canceled                                                            \n",
       "0         416  431  388  441  450  429  396  438  413  435  390  373\n",
       "1         123  140  129  147   65   65   84   71   38   16   33   89"
      ]
     },
     "execution_count": 6,
     "metadata": {},
     "output_type": "execute_result"
    }
   ],
   "source": [
    "cancel_by_month = data.groupby(['Canceled','Month']).size().unstack()\n",
    "cancel_by_month"
   ]
  },
  {
   "cell_type": "code",
   "execution_count": 7,
   "metadata": {},
   "outputs": [
    {
     "data": {
      "text/plain": [
       "<matplotlib.text.Text at 0x114523198>"
      ]
     },
     "execution_count": 7,
     "metadata": {},
     "output_type": "execute_result"
    },
    {
     "data": {
      "image/png": "[encoded data removed]",
      "text/plain": [
       "<matplotlib.figure.Figure at 0x113dc8518>"
      ]
     },
     "metadata": {},
     "output_type": "display_data"
    }
   ],
   "source": [
    "plt.plot(cancel_by_month.iloc[0], label= 'Not Canceled')\n",
    "plt.plot(cancel_by_month.iloc[1], label= 'Canceled')\n",
    "plt.legend(loc=3)\n",
    "plt.title('Frequency by month of the year')"
   ]
  },
  {
   "cell_type": "code",
   "execution_count": 8,
   "metadata": {
    "collapsed": true
   },
   "outputs": [],
   "source": [
    "cancel_by_hour= data.groupby(['Canceled','Hour']).size().unstack()"
   ]
  },
  {
   "cell_type": "code",
   "execution_count": 9,
   "metadata": {},
   "outputs": [
    {
     "data": {
      "text/plain": [
       "<matplotlib.text.Text at 0x1145830b8>"
      ]
     },
     "execution_count": 9,
     "metadata": {},
     "output_type": "execute_result"
    },
    {
     "data": {
      "image/png": "[encoded data removed]",
      "text/plain": [
       "<matplotlib.figure.Figure at 0x114575b00>"
      ]
     },
     "metadata": {},
     "output_type": "display_data"
    }
   ],
   "source": [
    "plt.plot(cancel_by_hour.iloc[0], label= 'Not Canceled')\n",
    "plt.plot(cancel_by_hour.iloc[1], label= 'Canceled')\n",
    "plt.legend(loc=2)\n",
    "plt.title('Frequency by hour of the day')"
   ]
  },
  {
   "cell_type": "markdown",
   "metadata": {},
   "source": [
    "### Findings:\n",
    "* No obvious increasing or decreasing trend when using Month or Hour as numeric variable, so it is reasonable to use them as categorical variable\n",
    "* Very few flights at 12AM, 1AM, 5AM. No flights at 2AM, 3AM, 4AM at all. Most flights were during day time.\n",
    "\n",
    "### 1.3 Feature Generation - One Hot Encoding\n",
    "use OneHotEncoder, LabelEncoder from sklearn to convert categorical variables (UniqueCarrier, Month and Hour) into binary variables to use for model fitting.\n",
    "\n",
    "* Build a custom transformer that will transform data to features we want:"
   ]
  },
  {
   "cell_type": "code",
   "execution_count": 12,
   "metadata": {
    "collapsed": true
   },
   "outputs": [],
   "source": [
    "# (base.BaseEstimator, base.TransformerMixin)-> this class will have .fit(),.fit_transform( mothods\n",
    "\n",
    "class ColumnSelectTransformer(base.BaseEstimator, base.TransformerMixin):\n",
    "    \n",
    "    def __init__(self, categorical_variables, numeric_variables): \n",
    "        # parameters taken by the transformer: a list of categorical_variables, a list of numeric_variables\n",
    "        self.categorical_variables = categorical_variables  # We will need these in transform()\n",
    "        self.numeric_variables     = numeric_variables\n",
    "    \n",
    "    def fit(self, X, y=None):\n",
    "        # Create empty list to store encode fit\n",
    "        self.label_encode = [] \n",
    "        self.OneHot_encode = []\n",
    "        \n",
    "        # fit LabelEncoder and OneHotEncoder to data\n",
    "        for i, column in enumerate(self.categorical_variables):\n",
    "            LE = LabelEncoder()                 # encode categorical variables as numeric\n",
    "            OHE = OneHotEncoder( sparse=False)  # do one hot encoding\n",
    "            OHE.fit(LE.fit_transform( X[column]).reshape(-1,1))\n",
    "            self.label_encode.append( LE )    \n",
    "            self.OneHot_encode.append( OHE )  \n",
    "        return self\n",
    "    \n",
    "    def transform(self, X):\n",
    "        X = X.reset_index() \n",
    "        df_cat = []  # empty list to store transformation result for each categorical variable\n",
    "        \n",
    "        # use LabelEncoder and OneHotEncoder to transform data\n",
    "        for i, column in enumerate(self.categorical_variables):\n",
    "            df_feature = self.OneHot_encode[i].transform(self.label_encode[i].transform( X[column]).reshape(-1,1))\n",
    "            df_feature = pd.DataFrame(df_feature)\n",
    "            df_feature.columns = [column  +'_'+str(x) for x in list(self.label_encode[i].classes_)]\n",
    "            df_cat.append(df_feature)\n",
    "            \n",
    "        # Merge these dummary variables with numeric features: \n",
    "        df_numeric = X[self.numeric_variables]\n",
    "        X = pd.concat([df_numeric]+ df_cat, axis=1) \n",
    "        \n",
    "        return X "
   ]
  },
  {
   "cell_type": "markdown",
   "metadata": {},
   "source": [
    "* Transform data, \n",
    "* list feature names\n",
    "* look at the transformed feature matrix"
   ]
  },
  {
   "cell_type": "code",
   "execution_count": 206,
   "metadata": {},
   "outputs": [
    {
     "name": "stdout",
     "output_type": "stream",
     "text": [
      "['Distance', 'UniqueCarrier_AA', 'UniqueCarrier_DL', 'UniqueCarrier_UA', 'Month_1', 'Month_2', 'Month_3', 'Month_4', 'Month_5', 'Month_6', 'Month_7', 'Month_8', 'Month_9', 'Month_10', 'Month_11', 'Month_12', 'Hour_0', 'Hour_1', 'Hour_5', 'Hour_6', 'Hour_7', 'Hour_8', 'Hour_9', 'Hour_10', 'Hour_11', 'Hour_12', 'Hour_13', 'Hour_14', 'Hour_15', 'Hour_16', 'Hour_17', 'Hour_18', 'Hour_19', 'Hour_20', 'Hour_21', 'Hour_22', 'Hour_23']\n"
     ]
    },
    {
     "data": {
      "text/html": [
       "<div>\n",
       "<table border=\"1\" class=\"dataframe\">\n",
       "  <thead>\n",
       "    <tr style=\"text-align: right;\">\n",
       "      <th></th>\n",
       "      <th>Distance</th>\n",
       "      <th>UniqueCarrier_AA</th>\n",
       "      <th>UniqueCarrier_DL</th>\n",
       "      <th>UniqueCarrier_UA</th>\n",
       "      <th>Month_1</th>\n",
       "      <th>Month_2</th>\n",
       "      <th>Month_3</th>\n",
       "      <th>Month_4</th>\n",
       "      <th>Month_5</th>\n",
       "      <th>Month_6</th>\n",
       "      <th>...</th>\n",
       "      <th>Hour_14</th>\n",
       "      <th>Hour_15</th>\n",
       "      <th>Hour_16</th>\n",
       "      <th>Hour_17</th>\n",
       "      <th>Hour_18</th>\n",
       "      <th>Hour_19</th>\n",
       "      <th>Hour_20</th>\n",
       "      <th>Hour_21</th>\n",
       "      <th>Hour_22</th>\n",
       "      <th>Hour_23</th>\n",
       "    </tr>\n",
       "  </thead>\n",
       "  <tbody>\n",
       "    <tr>\n",
       "      <th>0</th>\n",
       "      <td>679</td>\n",
       "      <td>0.0</td>\n",
       "      <td>0.0</td>\n",
       "      <td>1.0</td>\n",
       "      <td>0.0</td>\n",
       "      <td>0.0</td>\n",
       "      <td>0.0</td>\n",
       "      <td>0.0</td>\n",
       "      <td>0.0</td>\n",
       "      <td>0.0</td>\n",
       "      <td>...</td>\n",
       "      <td>0.0</td>\n",
       "      <td>0.0</td>\n",
       "      <td>0.0</td>\n",
       "      <td>0.0</td>\n",
       "      <td>0.0</td>\n",
       "      <td>0.0</td>\n",
       "      <td>0.0</td>\n",
       "      <td>0.0</td>\n",
       "      <td>0.0</td>\n",
       "      <td>0.0</td>\n",
       "    </tr>\n",
       "    <tr>\n",
       "      <th>1</th>\n",
       "      <td>214</td>\n",
       "      <td>0.0</td>\n",
       "      <td>1.0</td>\n",
       "      <td>0.0</td>\n",
       "      <td>0.0</td>\n",
       "      <td>0.0</td>\n",
       "      <td>0.0</td>\n",
       "      <td>0.0</td>\n",
       "      <td>0.0</td>\n",
       "      <td>0.0</td>\n",
       "      <td>...</td>\n",
       "      <td>0.0</td>\n",
       "      <td>0.0</td>\n",
       "      <td>0.0</td>\n",
       "      <td>0.0</td>\n",
       "      <td>0.0</td>\n",
       "      <td>0.0</td>\n",
       "      <td>0.0</td>\n",
       "      <td>0.0</td>\n",
       "      <td>0.0</td>\n",
       "      <td>0.0</td>\n",
       "    </tr>\n",
       "    <tr>\n",
       "      <th>2</th>\n",
       "      <td>1605</td>\n",
       "      <td>0.0</td>\n",
       "      <td>0.0</td>\n",
       "      <td>1.0</td>\n",
       "      <td>1.0</td>\n",
       "      <td>0.0</td>\n",
       "      <td>0.0</td>\n",
       "      <td>0.0</td>\n",
       "      <td>0.0</td>\n",
       "      <td>0.0</td>\n",
       "      <td>...</td>\n",
       "      <td>0.0</td>\n",
       "      <td>0.0</td>\n",
       "      <td>0.0</td>\n",
       "      <td>0.0</td>\n",
       "      <td>1.0</td>\n",
       "      <td>0.0</td>\n",
       "      <td>0.0</td>\n",
       "      <td>0.0</td>\n",
       "      <td>0.0</td>\n",
       "      <td>0.0</td>\n",
       "    </tr>\n",
       "    <tr>\n",
       "      <th>3</th>\n",
       "      <td>235</td>\n",
       "      <td>1.0</td>\n",
       "      <td>0.0</td>\n",
       "      <td>0.0</td>\n",
       "      <td>0.0</td>\n",
       "      <td>0.0</td>\n",
       "      <td>0.0</td>\n",
       "      <td>1.0</td>\n",
       "      <td>0.0</td>\n",
       "      <td>0.0</td>\n",
       "      <td>...</td>\n",
       "      <td>0.0</td>\n",
       "      <td>0.0</td>\n",
       "      <td>0.0</td>\n",
       "      <td>1.0</td>\n",
       "      <td>0.0</td>\n",
       "      <td>0.0</td>\n",
       "      <td>0.0</td>\n",
       "      <td>0.0</td>\n",
       "      <td>0.0</td>\n",
       "      <td>0.0</td>\n",
       "    </tr>\n",
       "    <tr>\n",
       "      <th>4</th>\n",
       "      <td>413</td>\n",
       "      <td>0.0</td>\n",
       "      <td>0.0</td>\n",
       "      <td>1.0</td>\n",
       "      <td>0.0</td>\n",
       "      <td>0.0</td>\n",
       "      <td>0.0</td>\n",
       "      <td>0.0</td>\n",
       "      <td>0.0</td>\n",
       "      <td>0.0</td>\n",
       "      <td>...</td>\n",
       "      <td>1.0</td>\n",
       "      <td>0.0</td>\n",
       "      <td>0.0</td>\n",
       "      <td>0.0</td>\n",
       "      <td>0.0</td>\n",
       "      <td>0.0</td>\n",
       "      <td>0.0</td>\n",
       "      <td>0.0</td>\n",
       "      <td>0.0</td>\n",
       "      <td>0.0</td>\n",
       "    </tr>\n",
       "  </tbody>\n",
       "</table>\n",
       "<p>5 rows × 37 columns</p>\n",
       "</div>"
      ],
      "text/plain": [
       "   Distance  UniqueCarrier_AA  UniqueCarrier_DL  UniqueCarrier_UA  Month_1  \\\n",
       "0       679               0.0               0.0               1.0      0.0   \n",
       "1       214               0.0               1.0               0.0      0.0   \n",
       "2      1605               0.0               0.0               1.0      1.0   \n",
       "3       235               1.0               0.0               0.0      0.0   \n",
       "4       413               0.0               0.0               1.0      0.0   \n",
       "\n",
       "   Month_2  Month_3  Month_4  Month_5  Month_6   ...     Hour_14  Hour_15  \\\n",
       "0      0.0      0.0      0.0      0.0      0.0   ...         0.0      0.0   \n",
       "1      0.0      0.0      0.0      0.0      0.0   ...         0.0      0.0   \n",
       "2      0.0      0.0      0.0      0.0      0.0   ...         0.0      0.0   \n",
       "3      0.0      0.0      1.0      0.0      0.0   ...         0.0      0.0   \n",
       "4      0.0      0.0      0.0      0.0      0.0   ...         1.0      0.0   \n",
       "\n",
       "   Hour_16  Hour_17  Hour_18  Hour_19  Hour_20  Hour_21  Hour_22  Hour_23  \n",
       "0      0.0      0.0      0.0      0.0      0.0      0.0      0.0      0.0  \n",
       "1      0.0      0.0      0.0      0.0      0.0      0.0      0.0      0.0  \n",
       "2      0.0      0.0      1.0      0.0      0.0      0.0      0.0      0.0  \n",
       "3      0.0      1.0      0.0      0.0      0.0      0.0      0.0      0.0  \n",
       "4      0.0      0.0      0.0      0.0      0.0      0.0      0.0      0.0  \n",
       "\n",
       "[5 rows x 37 columns]"
      ]
     },
     "execution_count": 206,
     "metadata": {},
     "output_type": "execute_result"
    }
   ],
   "source": [
    "CT = ColumnSelectTransformer(categorical_variables=['UniqueCarrier','Month', 'Hour'], \n",
    "                                numeric_variables=['Distance'])\n",
    "df_feature = CT.fit_transform(data)\n",
    "columns = list(df_feature.columns)\n",
    "print(columns)\n",
    "df_feature.head()"
   ]
  },
  {
   "cell_type": "markdown",
   "metadata": {},
   "source": [
    "## 2. Build a model to predict whether a flight will be canceled.\n",
    "Build prediction models using features generated above."
   ]
  },
  {
   "cell_type": "code",
   "execution_count": 47,
   "metadata": {
    "collapsed": true
   },
   "outputs": [],
   "source": [
    "from sklearn.linear_model import LogisticRegression\n",
    "from sklearn.tree import DecisionTreeClassifier\n",
    "from sklearn.ensemble import RandomForestClassifier, GradientBoostingClassifier, ExtraTreesClassifier\n",
    "from sklearn.naive_bayes import GaussianNB\n",
    "from sklearn.svm import SVC\n",
    "from sklearn.model_selection import cross_val_score\n",
    "from sklearn.metrics import roc_curve, auc"
   ]
  },
  {
   "cell_type": "markdown",
   "metadata": {},
   "source": [
    "### 2.1 Split data into training set and test set\n",
    "Split data into traing set(N=5000) and test set(N=1000): "
   ]
  },
  {
   "cell_type": "code",
   "execution_count": 364,
   "metadata": {
    "collapsed": true
   },
   "outputs": [],
   "source": [
    "X =  data.drop('Canceled', axis=1)\n",
    "y = data['Canceled']\n",
    "X_train, X_test, y_train, y_test = train_test_split( X, y, test_size= 1000, random_state=42)"
   ]
  },
  {
   "cell_type": "markdown",
   "metadata": {},
   "source": [
    "### 2.2 Fit different classifiers to training data and plot ROC curve using test data"
   ]
  },
  {
   "cell_type": "code",
   "execution_count": 428,
   "metadata": {},
   "outputs": [
    {
     "name": "stdout",
     "output_type": "stream",
     "text": [
      "Random Forest: Train Accuracy 0.8496 , Test Accuracy 0.816\n",
      "Confusion matrix of test data:\n",
      "[[803  16]\n",
      " [168  13]]\n",
      "Decision Tree: Train Accuracy 0.9034 , Test Accuracy 0.773\n",
      "Confusion matrix of test data:\n",
      "[[730  89]\n",
      " [138  43]]\n",
      "Logistic Regression: Train Accuracy 0.8362 , Test Accuracy 0.819\n",
      "Confusion matrix of test data:\n",
      "[[819   0]\n",
      " [181   0]]\n",
      "Regularized Logistic Regression: Train Accuracy 0.8362 , Test Accuracy 0.819\n",
      "Confusion matrix of test data:\n",
      "[[819   0]\n",
      " [181   0]]\n",
      "Naive Bayes: Train Accuracy 0.5212 , Test Accuracy 0.547\n",
      "Confusion matrix of test data:\n",
      "[[411 408]\n",
      " [ 45 136]]\n"
     ]
    },
    {
     "data": {
      "text/plain": [
       "<matplotlib.text.Text at 0x121b957f0>"
      ]
     },
     "execution_count": 428,
     "metadata": {},
     "output_type": "execute_result"
    },
    {
     "data": {
      "image/png": "[encoded data removed]",
      "text/plain": [
       "<matplotlib.figure.Figure at 0x122b9cf28>"
      ]
     },
     "metadata": {},
     "output_type": "display_data"
    }
   ],
   "source": [
    "#max_depth= 10, n_estimators = 10, max_features= 10\n",
    "# name -> (line format, classifier)\n",
    "from sklearn.metrics import f1_score, confusion_matrix, accuracy_score\n",
    "\n",
    "CLASS_MAP ={\n",
    "    'Logistic Regression': ('-', LogisticRegression() ),\n",
    "    'Regularized Logistic Regression': ('.', GridSearchCV(LogisticRegression(penalty= 'l2'), {'C':np.logspace(-2, 2.0, num=10)}) ),\n",
    "    'Naive Bayes' :('--', GaussianNB() ),\n",
    "    'Decision Tree' :('.-',DecisionTreeClassifier(min_samples_split=10) ) ,\n",
    "    'Random Forest': (':', RandomForestClassifier(min_samples_split=20)),\n",
    "}\n",
    "\n",
    "plt.figure(figsize= (12,8))\n",
    "for name, (line_fmt, clf) in CLASS_MAP.items():\n",
    "    # train model\n",
    "    model = Pipeline([\n",
    "        ('ColSelect', CT ),# ColumnSelectTransformer\n",
    "        ('clf', clf)       # classifier\n",
    "    ])\n",
    "    \n",
    "    model.fit( X_train, y_train)\n",
    "    # predict probability on test data\n",
    "    preds = model.predict_proba(X_test)\n",
    "    pred = pd.Series(preds[:, 1])\n",
    "    \n",
    "    # Calcualte FPR, TPR for plotting ROC curve\n",
    "    fpr, tpr, thresholds = roc_curve(y_test, pred)\n",
    "    auc_score = auc(fpr, tpr)\n",
    "    label = '%s: AUC=%f' %(name, auc_score)\n",
    "    plt.plot(fpr, tpr, line_fmt, linewidth=5, label= label)\n",
    "    \n",
    "    train_pred = model.predict(X_train)\n",
    "    test_pred = model.predict(X_test)\n",
    "\n",
    "    print(name + ': Train Accuracy', accuracy_score(y_train, train_pred) , #sum(train_pred== y_train)/len(y_train),\n",
    "          ', Test Accuracy', accuracy_score(y_test, test_pred))\n",
    "\n",
    "    #print('Confusion matrix of train data:')\n",
    "    #print(confusion_matrix(y_train, train_pred))\n",
    "    print('Confusion matrix of test data:')\n",
    "    print(confusion_matrix(y_test, test_pred))\n",
    "plt.legend(loc= 'lower right')\n",
    "plt.xlabel('False positive rate')\n",
    "plt.ylabel('True positive rate')\n",
    "plt.title('ROC Curve of Different Classfiers')"
   ]
  },
  {
   "cell_type": "code",
   "execution_count": 366,
   "metadata": {},
   "outputs": [
    {
     "data": {
      "text/plain": [
       "0.81899999999999995"
      ]
     },
     "execution_count": 366,
     "metadata": {},
     "output_type": "execute_result"
    }
   ],
   "source": [
    "#accuracy of predicting all flights to be not canceled:\n",
    "sum(y_test==0)/len(y_test)"
   ]
  },
  {
   "cell_type": "markdown",
   "metadata": {},
   "source": [
    "### Findings: \n",
    "* All models have similar AUC. \n",
    "* All accuracy are similar to just predicting all flights not canceled(0.819). \n",
    "    * Random ForestTest Accuracy 0.816\n",
    "    * Decision TreeTest Accuracy 0.81\n",
    "    * Logistic RegressionTest Accuracy 0.819\n",
    "    * Regularized Logistic RegressionTest Accuracy 0.819\n",
    "    * Naive BayesTest Accuracy 0.547\n",
    "* Looking at the confusion matrix, we can see that logistic regression is actually predicting Canceled =0 for all, which is not a good choice.\n",
    "* I choose random forest classifier to be the final prediction model. This final model is very good but that's the best model using current features. \n",
    "\n",
    "### 2.3 Fit the final model using all data:\n",
    "Build a pipeline to do automatic feature transformation and model fitting.  "
   ]
  },
  {
   "cell_type": "code",
   "execution_count": 419,
   "metadata": {},
   "outputs": [
    {
     "data": {
      "text/plain": [
       "Pipeline(steps=[('ColSelect', ColumnSelectTransformer(categorical_variables=['UniqueCarrier', 'Month', 'Hour'],\n",
       "            numeric_variables=['Distance'])), ('clf', RandomForestClassifier(bootstrap=True, class_weight=None, criterion='gini',\n",
       "            max_depth=None, max_features='auto', max_leaf_nodes=Non...imators=10, n_jobs=1, oob_score=False, random_state=None,\n",
       "            verbose=0, warm_start=False))])"
      ]
     },
     "execution_count": 419,
     "metadata": {},
     "output_type": "execute_result"
    }
   ],
   "source": [
    "from sklearn.pipeline import Pipeline\n",
    "CT = ColumnSelectTransformer(categorical_variables=['UniqueCarrier','Month', 'Hour'], \n",
    "                                numeric_variables=['Distance'])\n",
    "#clf = LogisticRegression()\n",
    "clf = RandomForestClassifier(min_samples_split=20)\n",
    "pipe = Pipeline([\n",
    "        ('ColSelect', CT ),# ColumnSelectTransformer\n",
    "        ('clf', clf)       # classifier\n",
    "    ])\n",
    "\n",
    "pipe.fit(data, data['Canceled'])"
   ]
  },
  {
   "cell_type": "code",
   "execution_count": 420,
   "metadata": {},
   "outputs": [
    {
     "data": {
      "text/plain": [
       "array([  3.16604449e-01,   2.82240984e-02,   2.77523600e-02,\n",
       "         2.14406690e-02,   1.94755014e-02,   2.94967781e-02,\n",
       "         2.44804980e-02,   3.41326765e-02,   1.30426311e-02,\n",
       "         1.28245833e-02,   2.19265716e-02,   1.29954337e-02,\n",
       "         1.69805591e-02,   2.69855070e-02,   1.57258828e-02,\n",
       "         1.66998637e-02,   2.63454192e-04,   1.84912906e-04,\n",
       "         4.18891983e-03,   2.26621198e-02,   2.47465713e-02,\n",
       "         2.47031857e-02,   1.54477402e-02,   2.07629973e-02,\n",
       "         2.26076385e-02,   2.27734415e-02,   2.04915068e-02,\n",
       "         2.60809708e-02,   1.92544765e-02,   2.14155002e-02,\n",
       "         1.69491824e-02,   2.81745559e-02,   2.63331078e-02,\n",
       "         1.62801614e-02,   1.30816942e-02,   1.04658520e-02,\n",
       "         4.34394726e-03])"
      ]
     },
     "execution_count": 420,
     "metadata": {},
     "output_type": "execute_result"
    }
   ],
   "source": [
    "pipe.named_steps['clf'].feature_importances_"
   ]
  },
  {
   "cell_type": "markdown",
   "metadata": {},
   "source": [
    "### Examine the variance importance:"
   ]
  },
  {
   "cell_type": "code",
   "execution_count": 421,
   "metadata": {},
   "outputs": [
    {
     "data": {
      "text/html": [
       "<div>\n",
       "<table border=\"1\" class=\"dataframe\">\n",
       "  <thead>\n",
       "    <tr style=\"text-align: right;\">\n",
       "      <th></th>\n",
       "      <th>Importance</th>\n",
       "      <th>Std</th>\n",
       "    </tr>\n",
       "  </thead>\n",
       "  <tbody>\n",
       "    <tr>\n",
       "      <th>Distance</th>\n",
       "      <td>0.316604</td>\n",
       "      <td>0.023634</td>\n",
       "    </tr>\n",
       "    <tr>\n",
       "      <th>UniqueCarrier_AA</th>\n",
       "      <td>0.028224</td>\n",
       "      <td>0.013056</td>\n",
       "    </tr>\n",
       "    <tr>\n",
       "      <th>UniqueCarrier_DL</th>\n",
       "      <td>0.027752</td>\n",
       "      <td>0.010602</td>\n",
       "    </tr>\n",
       "    <tr>\n",
       "      <th>UniqueCarrier_UA</th>\n",
       "      <td>0.021441</td>\n",
       "      <td>0.014254</td>\n",
       "    </tr>\n",
       "    <tr>\n",
       "      <th>Month_1</th>\n",
       "      <td>0.019476</td>\n",
       "      <td>0.006662</td>\n",
       "    </tr>\n",
       "    <tr>\n",
       "      <th>Month_2</th>\n",
       "      <td>0.029497</td>\n",
       "      <td>0.012345</td>\n",
       "    </tr>\n",
       "    <tr>\n",
       "      <th>Month_3</th>\n",
       "      <td>0.024480</td>\n",
       "      <td>0.008518</td>\n",
       "    </tr>\n",
       "    <tr>\n",
       "      <th>Month_4</th>\n",
       "      <td>0.034133</td>\n",
       "      <td>0.010115</td>\n",
       "    </tr>\n",
       "    <tr>\n",
       "      <th>Month_5</th>\n",
       "      <td>0.013043</td>\n",
       "      <td>0.005501</td>\n",
       "    </tr>\n",
       "    <tr>\n",
       "      <th>Month_6</th>\n",
       "      <td>0.012825</td>\n",
       "      <td>0.008902</td>\n",
       "    </tr>\n",
       "    <tr>\n",
       "      <th>Month_7</th>\n",
       "      <td>0.021927</td>\n",
       "      <td>0.007266</td>\n",
       "    </tr>\n",
       "    <tr>\n",
       "      <th>Month_8</th>\n",
       "      <td>0.012995</td>\n",
       "      <td>0.004513</td>\n",
       "    </tr>\n",
       "    <tr>\n",
       "      <th>Month_9</th>\n",
       "      <td>0.016981</td>\n",
       "      <td>0.009025</td>\n",
       "    </tr>\n",
       "    <tr>\n",
       "      <th>Month_10</th>\n",
       "      <td>0.026986</td>\n",
       "      <td>0.007733</td>\n",
       "    </tr>\n",
       "    <tr>\n",
       "      <th>Month_11</th>\n",
       "      <td>0.015726</td>\n",
       "      <td>0.004820</td>\n",
       "    </tr>\n",
       "    <tr>\n",
       "      <th>Month_12</th>\n",
       "      <td>0.016700</td>\n",
       "      <td>0.005858</td>\n",
       "    </tr>\n",
       "    <tr>\n",
       "      <th>Hour_0</th>\n",
       "      <td>0.000263</td>\n",
       "      <td>0.000369</td>\n",
       "    </tr>\n",
       "    <tr>\n",
       "      <th>Hour_1</th>\n",
       "      <td>0.000185</td>\n",
       "      <td>0.000323</td>\n",
       "    </tr>\n",
       "    <tr>\n",
       "      <th>Hour_5</th>\n",
       "      <td>0.004189</td>\n",
       "      <td>0.003937</td>\n",
       "    </tr>\n",
       "    <tr>\n",
       "      <th>Hour_6</th>\n",
       "      <td>0.022662</td>\n",
       "      <td>0.005835</td>\n",
       "    </tr>\n",
       "    <tr>\n",
       "      <th>Hour_7</th>\n",
       "      <td>0.024747</td>\n",
       "      <td>0.008186</td>\n",
       "    </tr>\n",
       "    <tr>\n",
       "      <th>Hour_8</th>\n",
       "      <td>0.024703</td>\n",
       "      <td>0.012441</td>\n",
       "    </tr>\n",
       "    <tr>\n",
       "      <th>Hour_9</th>\n",
       "      <td>0.015448</td>\n",
       "      <td>0.005797</td>\n",
       "    </tr>\n",
       "    <tr>\n",
       "      <th>Hour_10</th>\n",
       "      <td>0.020763</td>\n",
       "      <td>0.007953</td>\n",
       "    </tr>\n",
       "    <tr>\n",
       "      <th>Hour_11</th>\n",
       "      <td>0.022608</td>\n",
       "      <td>0.007227</td>\n",
       "    </tr>\n",
       "    <tr>\n",
       "      <th>Hour_12</th>\n",
       "      <td>0.022773</td>\n",
       "      <td>0.008103</td>\n",
       "    </tr>\n",
       "    <tr>\n",
       "      <th>Hour_13</th>\n",
       "      <td>0.020492</td>\n",
       "      <td>0.008502</td>\n",
       "    </tr>\n",
       "    <tr>\n",
       "      <th>Hour_14</th>\n",
       "      <td>0.026081</td>\n",
       "      <td>0.009466</td>\n",
       "    </tr>\n",
       "    <tr>\n",
       "      <th>Hour_15</th>\n",
       "      <td>0.019254</td>\n",
       "      <td>0.007912</td>\n",
       "    </tr>\n",
       "    <tr>\n",
       "      <th>Hour_16</th>\n",
       "      <td>0.021416</td>\n",
       "      <td>0.006571</td>\n",
       "    </tr>\n",
       "    <tr>\n",
       "      <th>Hour_17</th>\n",
       "      <td>0.016949</td>\n",
       "      <td>0.009429</td>\n",
       "    </tr>\n",
       "    <tr>\n",
       "      <th>Hour_18</th>\n",
       "      <td>0.028175</td>\n",
       "      <td>0.008114</td>\n",
       "    </tr>\n",
       "    <tr>\n",
       "      <th>Hour_19</th>\n",
       "      <td>0.026333</td>\n",
       "      <td>0.012020</td>\n",
       "    </tr>\n",
       "    <tr>\n",
       "      <th>Hour_20</th>\n",
       "      <td>0.016280</td>\n",
       "      <td>0.005184</td>\n",
       "    </tr>\n",
       "    <tr>\n",
       "      <th>Hour_21</th>\n",
       "      <td>0.013082</td>\n",
       "      <td>0.005586</td>\n",
       "    </tr>\n",
       "    <tr>\n",
       "      <th>Hour_22</th>\n",
       "      <td>0.010466</td>\n",
       "      <td>0.006452</td>\n",
       "    </tr>\n",
       "    <tr>\n",
       "      <th>Hour_23</th>\n",
       "      <td>0.004344</td>\n",
       "      <td>0.004416</td>\n",
       "    </tr>\n",
       "  </tbody>\n",
       "</table>\n",
       "</div>"
      ],
      "text/plain": [
       "                  Importance       Std\n",
       "Distance            0.316604  0.023634\n",
       "UniqueCarrier_AA    0.028224  0.013056\n",
       "UniqueCarrier_DL    0.027752  0.010602\n",
       "UniqueCarrier_UA    0.021441  0.014254\n",
       "Month_1             0.019476  0.006662\n",
       "Month_2             0.029497  0.012345\n",
       "Month_3             0.024480  0.008518\n",
       "Month_4             0.034133  0.010115\n",
       "Month_5             0.013043  0.005501\n",
       "Month_6             0.012825  0.008902\n",
       "Month_7             0.021927  0.007266\n",
       "Month_8             0.012995  0.004513\n",
       "Month_9             0.016981  0.009025\n",
       "Month_10            0.026986  0.007733\n",
       "Month_11            0.015726  0.004820\n",
       "Month_12            0.016700  0.005858\n",
       "Hour_0              0.000263  0.000369\n",
       "Hour_1              0.000185  0.000323\n",
       "Hour_5              0.004189  0.003937\n",
       "Hour_6              0.022662  0.005835\n",
       "Hour_7              0.024747  0.008186\n",
       "Hour_8              0.024703  0.012441\n",
       "Hour_9              0.015448  0.005797\n",
       "Hour_10             0.020763  0.007953\n",
       "Hour_11             0.022608  0.007227\n",
       "Hour_12             0.022773  0.008103\n",
       "Hour_13             0.020492  0.008502\n",
       "Hour_14             0.026081  0.009466\n",
       "Hour_15             0.019254  0.007912\n",
       "Hour_16             0.021416  0.006571\n",
       "Hour_17             0.016949  0.009429\n",
       "Hour_18             0.028175  0.008114\n",
       "Hour_19             0.026333  0.012020\n",
       "Hour_20             0.016280  0.005184\n",
       "Hour_21             0.013082  0.005586\n",
       "Hour_22             0.010466  0.006452\n",
       "Hour_23             0.004344  0.004416"
      ]
     },
     "execution_count": 421,
     "metadata": {},
     "output_type": "execute_result"
    }
   ],
   "source": [
    "importance = pipe.named_steps['clf'].feature_importances_\n",
    "importance = pd.DataFrame(importance, index= columns, columns=[\"Importance\"])\n",
    "\n",
    "importance[\"Std\"] = np.std([tree.feature_importances_\n",
    "                            for tree in clf.estimators_], axis=0)\n",
    "\n",
    "importance"
   ]
  },
  {
   "cell_type": "code",
   "execution_count": 422,
   "metadata": {},
   "outputs": [
    {
     "data": {
      "image/png": "[encoded data removed]",
      "text/plain": [
       "<matplotlib.figure.Figure at 0x11e451b00>"
      ]
     },
     "metadata": {},
     "output_type": "display_data"
    }
   ],
   "source": [
    "x_ = range(importance.shape[0])\n",
    "y_ = importance.ix[:, 0]\n",
    "yerr = importance.ix[:, 1]\n",
    "\n",
    "plt.bar(x_, y_, yerr=yerr, align=\"center\")\n",
    "plt.title('Variable Importance Plot')\n",
    "plt.show()"
   ]
  },
  {
   "cell_type": "markdown",
   "metadata": {},
   "source": [
    "### Interpretation:\n",
    "Distance is the most important feature in the final model to predict flight cancellation."
   ]
  },
  {
   "cell_type": "markdown",
   "metadata": {},
   "source": [
    "### Interpretation: \n",
    "*  The logistic regression coefficients give the change in the log odds of the outcome for a one unit increase in the predictor variable.\n",
    "* can get odds-ratio by exponentiating the coefficients.\n",
    "* Positive coefficient (odds ratio >1) suggest the odds of canceled is higher if that feature =0 compared with feature =1."
   ]
  },
  {
   "cell_type": "markdown",
   "metadata": {},
   "source": [
    "## 3. Use the model output to predict whether a future flight will be canceled.\n",
    "* Ramdomly sample 10 rows from data to use as test data and show how prediction can be done for future new data."
   ]
  },
  {
   "cell_type": "code",
   "execution_count": 424,
   "metadata": {},
   "outputs": [
    {
     "data": {
      "text/html": [
       "<div>\n",
       "<table border=\"1\" class=\"dataframe\">\n",
       "  <thead>\n",
       "    <tr style=\"text-align: right;\">\n",
       "      <th></th>\n",
       "      <th>Canceled</th>\n",
       "      <th>Month</th>\n",
       "      <th>DepartureTime</th>\n",
       "      <th>UniqueCarrier</th>\n",
       "      <th>SchedElapsedTime</th>\n",
       "      <th>ArrDelay</th>\n",
       "      <th>DepDelay</th>\n",
       "      <th>Distance</th>\n",
       "      <th>Hour</th>\n",
       "    </tr>\n",
       "  </thead>\n",
       "  <tbody>\n",
       "    <tr>\n",
       "      <th>2966</th>\n",
       "      <td>0</td>\n",
       "      <td>12</td>\n",
       "      <td>920</td>\n",
       "      <td>UA</td>\n",
       "      <td>156</td>\n",
       "      <td>-18</td>\n",
       "      <td>-1</td>\n",
       "      <td>783</td>\n",
       "      <td>9</td>\n",
       "    </tr>\n",
       "    <tr>\n",
       "      <th>20</th>\n",
       "      <td>1</td>\n",
       "      <td>7</td>\n",
       "      <td>2059</td>\n",
       "      <td>UA</td>\n",
       "      <td>130</td>\n",
       "      <td>0</td>\n",
       "      <td>0</td>\n",
       "      <td>719</td>\n",
       "      <td>20</td>\n",
       "    </tr>\n",
       "    <tr>\n",
       "      <th>98</th>\n",
       "      <td>1</td>\n",
       "      <td>9</td>\n",
       "      <td>720</td>\n",
       "      <td>AA</td>\n",
       "      <td>115</td>\n",
       "      <td>0</td>\n",
       "      <td>0</td>\n",
       "      <td>631</td>\n",
       "      <td>7</td>\n",
       "    </tr>\n",
       "    <tr>\n",
       "      <th>4112</th>\n",
       "      <td>0</td>\n",
       "      <td>5</td>\n",
       "      <td>1105</td>\n",
       "      <td>UA</td>\n",
       "      <td>218</td>\n",
       "      <td>15</td>\n",
       "      <td>31</td>\n",
       "      <td>1671</td>\n",
       "      <td>11</td>\n",
       "    </tr>\n",
       "    <tr>\n",
       "      <th>5350</th>\n",
       "      <td>0</td>\n",
       "      <td>8</td>\n",
       "      <td>1245</td>\n",
       "      <td>AA</td>\n",
       "      <td>215</td>\n",
       "      <td>-8</td>\n",
       "      <td>-5</td>\n",
       "      <td>1558</td>\n",
       "      <td>12</td>\n",
       "    </tr>\n",
       "  </tbody>\n",
       "</table>\n",
       "</div>"
      ],
      "text/plain": [
       "      Canceled  Month  DepartureTime UniqueCarrier  SchedElapsedTime  \\\n",
       "2966         0     12            920            UA               156   \n",
       "20           1      7           2059            UA               130   \n",
       "98           1      9            720            AA               115   \n",
       "4112         0      5           1105            UA               218   \n",
       "5350         0      8           1245            AA               215   \n",
       "\n",
       "      ArrDelay  DepDelay  Distance  Hour  \n",
       "2966       -18        -1       783     9  \n",
       "20           0         0       719    20  \n",
       "98           0         0       631     7  \n",
       "4112        15        31      1671    11  \n",
       "5350        -8        -5      1558    12  "
      ]
     },
     "execution_count": 424,
     "metadata": {},
     "output_type": "execute_result"
    }
   ],
   "source": [
    "# Randomly sample 10 rows from data for test prediction\n",
    "test_num = 10\n",
    "test = data.sample(test_num )\n",
    "test.head()"
   ]
  },
  {
   "cell_type": "code",
   "execution_count": 429,
   "metadata": {},
   "outputs": [
    {
     "data": {
      "text/plain": [
       "<matplotlib.text.Text at 0x121d59080>"
      ]
     },
     "execution_count": 429,
     "metadata": {},
     "output_type": "execute_result"
    },
    {
     "data": {
      "image/png": "[encoded data removed]",
      "text/plain": [
       "<matplotlib.figure.Figure at 0x11d7f4630>"
      ]
     },
     "metadata": {},
     "output_type": "display_data"
    }
   ],
   "source": [
    "prob = pipe.predict_proba(test)[:,1]\n",
    "plt.plot(prob, label= 'Predicted Probability')\n",
    "plt.scatter( range(test_num ), list(test['Canceled']* prob) , label= 'True label')\n",
    "plt.legend(loc=1)\n",
    "plt.title('Predicted probability of logistic regression overlay with real label')"
   ]
  },
  {
   "cell_type": "markdown",
   "metadata": {},
   "source": [
    "Interpretation: \n",
    "* Logistic regression predict all records to be Canceled= 0. \n",
    "* In read prediction, we will not have the true value. \n",
    "* For this case, when we overlay true Canceled(dots above 0), not canceled(dots at 0) on the predicted probability plot. \n",
    "* Canceled flights do have higher predicted probability."
   ]
  },
  {
   "cell_type": "markdown",
   "metadata": {},
   "source": [
    "## 4. Provide a recommendationon which airline is most reliable."
   ]
  },
  {
   "cell_type": "markdown",
   "metadata": {},
   "source": [
    "### 1. Delta(DL) has the lowest overall probability of canceled flight"
   ]
  },
  {
   "cell_type": "code",
   "execution_count": 392,
   "metadata": {},
   "outputs": [
    {
     "data": {
      "text/html": [
       "<div>\n",
       "<table border=\"1\" class=\"dataframe\">\n",
       "  <thead>\n",
       "    <tr style=\"text-align: right;\">\n",
       "      <th>Canceled</th>\n",
       "      <th>0</th>\n",
       "      <th>1</th>\n",
       "      <th>proportion</th>\n",
       "    </tr>\n",
       "    <tr>\n",
       "      <th>UniqueCarrier</th>\n",
       "      <th></th>\n",
       "      <th></th>\n",
       "      <th></th>\n",
       "    </tr>\n",
       "  </thead>\n",
       "  <tbody>\n",
       "    <tr>\n",
       "      <th>AA</th>\n",
       "      <td>1983</td>\n",
       "      <td>493</td>\n",
       "      <td>0.199111</td>\n",
       "    </tr>\n",
       "    <tr>\n",
       "      <th>DL</th>\n",
       "      <td>1499</td>\n",
       "      <td>189</td>\n",
       "      <td>0.111967</td>\n",
       "    </tr>\n",
       "    <tr>\n",
       "      <th>UA</th>\n",
       "      <td>1518</td>\n",
       "      <td>318</td>\n",
       "      <td>0.173203</td>\n",
       "    </tr>\n",
       "  </tbody>\n",
       "</table>\n",
       "</div>"
      ],
      "text/plain": [
       "Canceled          0    1  proportion\n",
       "UniqueCarrier                       \n",
       "AA             1983  493    0.199111\n",
       "DL             1499  189    0.111967\n",
       "UA             1518  318    0.173203"
      ]
     },
     "execution_count": 392,
     "metadata": {},
     "output_type": "execute_result"
    }
   ],
   "source": [
    "c = data.groupby(['UniqueCarrier', 'Canceled']).size().unstack()\n",
    "c['proportion'] = c[1]/(c[0]+ c[1])\n",
    "c"
   ]
  },
  {
   "cell_type": "markdown",
   "metadata": {},
   "source": [
    "### 2. Delta(DL) is also the carrier with lowest probabilities of canceled flight by month"
   ]
  },
  {
   "cell_type": "code",
   "execution_count": 277,
   "metadata": {},
   "outputs": [
    {
     "data": {
      "text/html": [
       "<div>\n",
       "<table border=\"1\" class=\"dataframe\">\n",
       "  <thead>\n",
       "    <tr>\n",
       "      <th></th>\n",
       "      <th colspan=\"6\" halign=\"left\">Canceled</th>\n",
       "    </tr>\n",
       "    <tr>\n",
       "      <th></th>\n",
       "      <th colspan=\"3\" halign=\"left\">count</th>\n",
       "      <th colspan=\"3\" halign=\"left\">mean</th>\n",
       "    </tr>\n",
       "    <tr>\n",
       "      <th>UniqueCarrier</th>\n",
       "      <th>AA</th>\n",
       "      <th>DL</th>\n",
       "      <th>UA</th>\n",
       "      <th>AA</th>\n",
       "      <th>DL</th>\n",
       "      <th>UA</th>\n",
       "    </tr>\n",
       "    <tr>\n",
       "      <th>Month</th>\n",
       "      <th></th>\n",
       "      <th></th>\n",
       "      <th></th>\n",
       "      <th></th>\n",
       "      <th></th>\n",
       "      <th></th>\n",
       "    </tr>\n",
       "  </thead>\n",
       "  <tbody>\n",
       "    <tr>\n",
       "      <th>1</th>\n",
       "      <td>211</td>\n",
       "      <td>143</td>\n",
       "      <td>185</td>\n",
       "      <td>0.213270</td>\n",
       "      <td>0.202797</td>\n",
       "      <td>0.264865</td>\n",
       "    </tr>\n",
       "    <tr>\n",
       "      <th>2</th>\n",
       "      <td>228</td>\n",
       "      <td>157</td>\n",
       "      <td>186</td>\n",
       "      <td>0.311404</td>\n",
       "      <td>0.133758</td>\n",
       "      <td>0.258065</td>\n",
       "    </tr>\n",
       "    <tr>\n",
       "      <th>3</th>\n",
       "      <td>230</td>\n",
       "      <td>134</td>\n",
       "      <td>153</td>\n",
       "      <td>0.347826</td>\n",
       "      <td>0.111940</td>\n",
       "      <td>0.222222</td>\n",
       "    </tr>\n",
       "    <tr>\n",
       "      <th>4</th>\n",
       "      <td>318</td>\n",
       "      <td>131</td>\n",
       "      <td>139</td>\n",
       "      <td>0.358491</td>\n",
       "      <td>0.083969</td>\n",
       "      <td>0.158273</td>\n",
       "    </tr>\n",
       "    <tr>\n",
       "      <th>5</th>\n",
       "      <td>201</td>\n",
       "      <td>140</td>\n",
       "      <td>174</td>\n",
       "      <td>0.169154</td>\n",
       "      <td>0.035714</td>\n",
       "      <td>0.149425</td>\n",
       "    </tr>\n",
       "    <tr>\n",
       "      <th>6</th>\n",
       "      <td>192</td>\n",
       "      <td>138</td>\n",
       "      <td>164</td>\n",
       "      <td>0.114583</td>\n",
       "      <td>0.137681</td>\n",
       "      <td>0.146341</td>\n",
       "    </tr>\n",
       "    <tr>\n",
       "      <th>7</th>\n",
       "      <td>170</td>\n",
       "      <td>127</td>\n",
       "      <td>183</td>\n",
       "      <td>0.088235</td>\n",
       "      <td>0.181102</td>\n",
       "      <td>0.251366</td>\n",
       "    </tr>\n",
       "    <tr>\n",
       "      <th>8</th>\n",
       "      <td>239</td>\n",
       "      <td>145</td>\n",
       "      <td>125</td>\n",
       "      <td>0.158996</td>\n",
       "      <td>0.117241</td>\n",
       "      <td>0.128000</td>\n",
       "    </tr>\n",
       "    <tr>\n",
       "      <th>9</th>\n",
       "      <td>177</td>\n",
       "      <td>144</td>\n",
       "      <td>130</td>\n",
       "      <td>0.107345</td>\n",
       "      <td>0.083333</td>\n",
       "      <td>0.053846</td>\n",
       "    </tr>\n",
       "    <tr>\n",
       "      <th>10</th>\n",
       "      <td>170</td>\n",
       "      <td>140</td>\n",
       "      <td>141</td>\n",
       "      <td>0.052941</td>\n",
       "      <td>0.007143</td>\n",
       "      <td>0.042553</td>\n",
       "    </tr>\n",
       "    <tr>\n",
       "      <th>11</th>\n",
       "      <td>178</td>\n",
       "      <td>122</td>\n",
       "      <td>123</td>\n",
       "      <td>0.067416</td>\n",
       "      <td>0.098361</td>\n",
       "      <td>0.073171</td>\n",
       "    </tr>\n",
       "    <tr>\n",
       "      <th>12</th>\n",
       "      <td>162</td>\n",
       "      <td>167</td>\n",
       "      <td>133</td>\n",
       "      <td>0.209877</td>\n",
       "      <td>0.143713</td>\n",
       "      <td>0.233083</td>\n",
       "    </tr>\n",
       "  </tbody>\n",
       "</table>\n",
       "</div>"
      ],
      "text/plain": [
       "              Canceled                                        \n",
       "                 count                mean                    \n",
       "UniqueCarrier       AA   DL   UA        AA        DL        UA\n",
       "Month                                                         \n",
       "1                  211  143  185  0.213270  0.202797  0.264865\n",
       "2                  228  157  186  0.311404  0.133758  0.258065\n",
       "3                  230  134  153  0.347826  0.111940  0.222222\n",
       "4                  318  131  139  0.358491  0.083969  0.158273\n",
       "5                  201  140  174  0.169154  0.035714  0.149425\n",
       "6                  192  138  164  0.114583  0.137681  0.146341\n",
       "7                  170  127  183  0.088235  0.181102  0.251366\n",
       "8                  239  145  125  0.158996  0.117241  0.128000\n",
       "9                  177  144  130  0.107345  0.083333  0.053846\n",
       "10                 170  140  141  0.052941  0.007143  0.042553\n",
       "11                 178  122  123  0.067416  0.098361  0.073171\n",
       "12                 162  167  133  0.209877  0.143713  0.233083"
      ]
     },
     "execution_count": 277,
     "metadata": {},
     "output_type": "execute_result"
    }
   ],
   "source": [
    "grp  =  data[['Canceled', 'UniqueCarrier','Month']].groupby(['Month','UniqueCarrier' ])\n",
    "m = grp.agg({'mean', 'count'}).unstack()\n",
    "m"
   ]
  },
  {
   "cell_type": "code",
   "execution_count": 278,
   "metadata": {},
   "outputs": [
    {
     "data": {
      "text/plain": [
       "<matplotlib.text.Text at 0x11dd03a58>"
      ]
     },
     "execution_count": 278,
     "metadata": {},
     "output_type": "execute_result"
    },
    {
     "data": {
      "image/png": "[encoded data removed]",
      "text/plain": [
       "<matplotlib.figure.Figure at 0x11dc0f0f0>"
      ]
     },
     "metadata": {},
     "output_type": "display_data"
    }
   ],
   "source": [
    "plt.plot( m['Canceled']['mean']['AA'], label='AA')\n",
    "plt.plot( m['Canceled']['mean']['UA'], label='UA')\n",
    "plt.plot( m['Canceled']['mean']['DL'], label='DL')\n",
    "plt.legend(loc=3)\n",
    "plt.title('Proportion delayed for different months by airline')"
   ]
  },
  {
   "cell_type": "markdown",
   "metadata": {},
   "source": [
    "* The green line for DL is has the lowest probability based on current data.\n",
    "\n",
    "### 3. Delta(DL) is also the carrier with lowest probabilities of canceled flight by hour of the day"
   ]
  },
  {
   "cell_type": "code",
   "execution_count": 358,
   "metadata": {},
   "outputs": [
    {
     "data": {
      "text/html": [
       "<div>\n",
       "<table border=\"1\" class=\"dataframe\">\n",
       "  <thead>\n",
       "    <tr>\n",
       "      <th></th>\n",
       "      <th colspan=\"6\" halign=\"left\">Canceled</th>\n",
       "    </tr>\n",
       "    <tr>\n",
       "      <th></th>\n",
       "      <th colspan=\"3\" halign=\"left\">mean</th>\n",
       "      <th colspan=\"3\" halign=\"left\">count</th>\n",
       "    </tr>\n",
       "    <tr>\n",
       "      <th>UniqueCarrier</th>\n",
       "      <th>AA</th>\n",
       "      <th>DL</th>\n",
       "      <th>UA</th>\n",
       "      <th>AA</th>\n",
       "      <th>DL</th>\n",
       "      <th>UA</th>\n",
       "    </tr>\n",
       "    <tr>\n",
       "      <th>Hour</th>\n",
       "      <th></th>\n",
       "      <th></th>\n",
       "      <th></th>\n",
       "      <th></th>\n",
       "      <th></th>\n",
       "      <th></th>\n",
       "    </tr>\n",
       "  </thead>\n",
       "  <tbody>\n",
       "    <tr>\n",
       "      <th>0</th>\n",
       "      <td>0.000000</td>\n",
       "      <td>0.000000</td>\n",
       "      <td>0.000000</td>\n",
       "      <td>3.0</td>\n",
       "      <td>8.0</td>\n",
       "      <td>1.0</td>\n",
       "    </tr>\n",
       "    <tr>\n",
       "      <th>1</th>\n",
       "      <td>0.000000</td>\n",
       "      <td>NaN</td>\n",
       "      <td>NaN</td>\n",
       "      <td>1.0</td>\n",
       "      <td>NaN</td>\n",
       "      <td>NaN</td>\n",
       "    </tr>\n",
       "    <tr>\n",
       "      <th>5</th>\n",
       "      <td>0.000000</td>\n",
       "      <td>0.111111</td>\n",
       "      <td>0.333333</td>\n",
       "      <td>8.0</td>\n",
       "      <td>9.0</td>\n",
       "      <td>3.0</td>\n",
       "    </tr>\n",
       "    <tr>\n",
       "      <th>6</th>\n",
       "      <td>0.195122</td>\n",
       "      <td>0.125000</td>\n",
       "      <td>0.180000</td>\n",
       "      <td>164.0</td>\n",
       "      <td>88.0</td>\n",
       "      <td>150.0</td>\n",
       "    </tr>\n",
       "    <tr>\n",
       "      <th>7</th>\n",
       "      <td>0.194245</td>\n",
       "      <td>0.082759</td>\n",
       "      <td>0.136364</td>\n",
       "      <td>139.0</td>\n",
       "      <td>145.0</td>\n",
       "      <td>132.0</td>\n",
       "    </tr>\n",
       "    <tr>\n",
       "      <th>8</th>\n",
       "      <td>0.168367</td>\n",
       "      <td>0.129310</td>\n",
       "      <td>0.184932</td>\n",
       "      <td>196.0</td>\n",
       "      <td>116.0</td>\n",
       "      <td>146.0</td>\n",
       "    </tr>\n",
       "    <tr>\n",
       "      <th>9</th>\n",
       "      <td>0.183007</td>\n",
       "      <td>0.106796</td>\n",
       "      <td>0.178571</td>\n",
       "      <td>153.0</td>\n",
       "      <td>103.0</td>\n",
       "      <td>84.0</td>\n",
       "    </tr>\n",
       "    <tr>\n",
       "      <th>10</th>\n",
       "      <td>0.203593</td>\n",
       "      <td>0.100917</td>\n",
       "      <td>0.155039</td>\n",
       "      <td>167.0</td>\n",
       "      <td>109.0</td>\n",
       "      <td>129.0</td>\n",
       "    </tr>\n",
       "    <tr>\n",
       "      <th>11</th>\n",
       "      <td>0.203947</td>\n",
       "      <td>0.096000</td>\n",
       "      <td>0.209524</td>\n",
       "      <td>152.0</td>\n",
       "      <td>125.0</td>\n",
       "      <td>105.0</td>\n",
       "    </tr>\n",
       "    <tr>\n",
       "      <th>12</th>\n",
       "      <td>0.168750</td>\n",
       "      <td>0.137615</td>\n",
       "      <td>0.182609</td>\n",
       "      <td>160.0</td>\n",
       "      <td>109.0</td>\n",
       "      <td>115.0</td>\n",
       "    </tr>\n",
       "    <tr>\n",
       "      <th>13</th>\n",
       "      <td>0.263158</td>\n",
       "      <td>0.113208</td>\n",
       "      <td>0.183333</td>\n",
       "      <td>171.0</td>\n",
       "      <td>106.0</td>\n",
       "      <td>120.0</td>\n",
       "    </tr>\n",
       "    <tr>\n",
       "      <th>14</th>\n",
       "      <td>0.215569</td>\n",
       "      <td>0.138298</td>\n",
       "      <td>0.120000</td>\n",
       "      <td>167.0</td>\n",
       "      <td>94.0</td>\n",
       "      <td>100.0</td>\n",
       "    </tr>\n",
       "    <tr>\n",
       "      <th>15</th>\n",
       "      <td>0.201087</td>\n",
       "      <td>0.085714</td>\n",
       "      <td>0.142857</td>\n",
       "      <td>184.0</td>\n",
       "      <td>105.0</td>\n",
       "      <td>98.0</td>\n",
       "    </tr>\n",
       "    <tr>\n",
       "      <th>16</th>\n",
       "      <td>0.191860</td>\n",
       "      <td>0.105263</td>\n",
       "      <td>0.112245</td>\n",
       "      <td>172.0</td>\n",
       "      <td>133.0</td>\n",
       "      <td>98.0</td>\n",
       "    </tr>\n",
       "    <tr>\n",
       "      <th>17</th>\n",
       "      <td>0.200000</td>\n",
       "      <td>0.149123</td>\n",
       "      <td>0.204082</td>\n",
       "      <td>160.0</td>\n",
       "      <td>114.0</td>\n",
       "      <td>147.0</td>\n",
       "    </tr>\n",
       "    <tr>\n",
       "      <th>18</th>\n",
       "      <td>0.204819</td>\n",
       "      <td>0.134615</td>\n",
       "      <td>0.145038</td>\n",
       "      <td>166.0</td>\n",
       "      <td>104.0</td>\n",
       "      <td>131.0</td>\n",
       "    </tr>\n",
       "    <tr>\n",
       "      <th>19</th>\n",
       "      <td>0.239437</td>\n",
       "      <td>0.181818</td>\n",
       "      <td>0.260417</td>\n",
       "      <td>142.0</td>\n",
       "      <td>66.0</td>\n",
       "      <td>96.0</td>\n",
       "    </tr>\n",
       "    <tr>\n",
       "      <th>20</th>\n",
       "      <td>0.195402</td>\n",
       "      <td>0.080645</td>\n",
       "      <td>0.262295</td>\n",
       "      <td>87.0</td>\n",
       "      <td>62.0</td>\n",
       "      <td>61.0</td>\n",
       "    </tr>\n",
       "    <tr>\n",
       "      <th>21</th>\n",
       "      <td>0.192308</td>\n",
       "      <td>0.049180</td>\n",
       "      <td>0.173077</td>\n",
       "      <td>52.0</td>\n",
       "      <td>61.0</td>\n",
       "      <td>52.0</td>\n",
       "    </tr>\n",
       "    <tr>\n",
       "      <th>22</th>\n",
       "      <td>0.115385</td>\n",
       "      <td>0.090909</td>\n",
       "      <td>0.140000</td>\n",
       "      <td>26.0</td>\n",
       "      <td>22.0</td>\n",
       "      <td>50.0</td>\n",
       "    </tr>\n",
       "    <tr>\n",
       "      <th>23</th>\n",
       "      <td>0.000000</td>\n",
       "      <td>0.000000</td>\n",
       "      <td>0.111111</td>\n",
       "      <td>6.0</td>\n",
       "      <td>9.0</td>\n",
       "      <td>18.0</td>\n",
       "    </tr>\n",
       "  </tbody>\n",
       "</table>\n",
       "</div>"
      ],
      "text/plain": [
       "               Canceled                                         \n",
       "                   mean                      count              \n",
       "UniqueCarrier        AA        DL        UA     AA     DL     UA\n",
       "Hour                                                            \n",
       "0              0.000000  0.000000  0.000000    3.0    8.0    1.0\n",
       "1              0.000000       NaN       NaN    1.0    NaN    NaN\n",
       "5              0.000000  0.111111  0.333333    8.0    9.0    3.0\n",
       "6              0.195122  0.125000  0.180000  164.0   88.0  150.0\n",
       "7              0.194245  0.082759  0.136364  139.0  145.0  132.0\n",
       "8              0.168367  0.129310  0.184932  196.0  116.0  146.0\n",
       "9              0.183007  0.106796  0.178571  153.0  103.0   84.0\n",
       "10             0.203593  0.100917  0.155039  167.0  109.0  129.0\n",
       "11             0.203947  0.096000  0.209524  152.0  125.0  105.0\n",
       "12             0.168750  0.137615  0.182609  160.0  109.0  115.0\n",
       "13             0.263158  0.113208  0.183333  171.0  106.0  120.0\n",
       "14             0.215569  0.138298  0.120000  167.0   94.0  100.0\n",
       "15             0.201087  0.085714  0.142857  184.0  105.0   98.0\n",
       "16             0.191860  0.105263  0.112245  172.0  133.0   98.0\n",
       "17             0.200000  0.149123  0.204082  160.0  114.0  147.0\n",
       "18             0.204819  0.134615  0.145038  166.0  104.0  131.0\n",
       "19             0.239437  0.181818  0.260417  142.0   66.0   96.0\n",
       "20             0.195402  0.080645  0.262295   87.0   62.0   61.0\n",
       "21             0.192308  0.049180  0.173077   52.0   61.0   52.0\n",
       "22             0.115385  0.090909  0.140000   26.0   22.0   50.0\n",
       "23             0.000000  0.000000  0.111111    6.0    9.0   18.0"
      ]
     },
     "execution_count": 358,
     "metadata": {},
     "output_type": "execute_result"
    }
   ],
   "source": [
    "grp_h  =  data[['Canceled', 'UniqueCarrier','Hour']].groupby(['Hour','UniqueCarrier' ])\n",
    "h = grp_h.agg({'mean', 'count'}).unstack()\n",
    "h"
   ]
  },
  {
   "cell_type": "code",
   "execution_count": 360,
   "metadata": {},
   "outputs": [
    {
     "data": {
      "text/plain": [
       "<matplotlib.text.Text at 0x1173c9be0>"
      ]
     },
     "execution_count": 360,
     "metadata": {},
     "output_type": "execute_result"
    },
    {
     "data": {
      "image/png": "[encoded data removed]",
      "text/plain": [
       "<matplotlib.figure.Figure at 0x1173294e0>"
      ]
     },
     "metadata": {},
     "output_type": "display_data"
    }
   ],
   "source": [
    "plt.plot( h['Canceled']['mean']['AA'], label='AA')\n",
    "plt.plot( h['Canceled']['mean']['UA'], label='UA')\n",
    "plt.plot( h['Canceled']['mean']['DL'], label='DL')\n",
    "plt.legend(loc=0)\n",
    "plt.title('Proportion delayed for different hours of the day by airline')"
   ]
  },
  {
   "cell_type": "markdown",
   "metadata": {
    "collapsed": true
   },
   "source": [
    "### Conclusion: The agency should advise its customers that Delta airline has the least risk of cancellation"
   ]
  }
 ],
 "metadata": {
  "kernelspec": {
   "display_name": "Python 3",
   "language": "python",
   "name": "python3"
  },
  "language_info": {
   "codemirror_mode": {
    "name": "ipython",
    "version": 3
   },
   "file_extension": ".py",
   "mimetype": "text/x-python",
   "name": "python",
   "nbconvert_exporter": "python",
   "pygments_lexer": "ipython3",
   "version": "3.5.3"
  }
 },
 "nbformat": 4,
 "nbformat_minor": 2
}
